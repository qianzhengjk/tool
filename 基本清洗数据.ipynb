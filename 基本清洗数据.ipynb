{
 "cells": [
  {
   "cell_type": "code",
   "execution_count": 17,
   "metadata": {
    "collapsed": true
   },
   "outputs": [],
   "source": [
    "import os \n",
    "os.chdir('D:\\\\新建文件夹')\n",
    "\n",
    "import pandas as pd\n",
    "import numpy as np\n",
    "import matplotlib.pyplot as plt\n",
    "import seaborn as sns\n",
    "\n",
    "from  IPython.display import display"
   ]
  },
  {
   "cell_type": "code",
   "execution_count": 3,
   "metadata": {
    "collapsed": true
   },
   "outputs": [],
   "source": [
    "#读取数据，了解数据概况\n",
    "def set_summary(df):\n",
    "    print ('{:*^60}'.format('数据前五行'))\n",
    "    print (df.head())  \n",
    "    print ('{:*^60}'.format('数据类型'))\n",
    "    print (df.dtypes)  \n",
    "    print ('{:*^60}'.format('数据基本描述信息'))\n",
    "    print(display(df.describe().astype(str)))"
   ]
  },
  {
   "cell_type": "code",
   "execution_count": 4,
   "metadata": {
    "collapsed": true
   },
   "outputs": [],
   "source": [
    "# 缺失值审查\n",
    "def na_summary(df):\n",
    "    na_cols = df.isnull().any(axis=0)\n",
    "    print('NA Cols:{}'.format(na_cols))\n",
    "    print('\\n')\n",
    "    na_lines = df.isnull().any(axis=1)\n",
    "    print ('Total number of NA lines is: {0}'.format(na_lines.sum()))"
   ]
  },
  {
   "cell_type": "code",
   "execution_count": 23,
   "metadata": {},
   "outputs": [
    {
     "name": "stderr",
     "output_type": "stream",
     "text": [
      "C:\\Program Files\\Anaconda3\\lib\\site-packages\\IPython\\core\\interactiveshell.py:2717: DtypeWarning: Columns (0,1,2,4) have mixed types. Specify dtype option on import or set low_memory=False.\n",
      "  interactivity=interactivity, compiler=compiler, result=result)\n"
     ]
    }
   ],
   "source": [
    "#数据应用\n",
    "data = pd.read_csv('UserBehavior_0.csv')"
   ]
  }
 ],
 "metadata": {
  "kernelspec": {
   "display_name": "Python [default]",
   "language": "python",
   "name": "python3"
  },
  "language_info": {
   "codemirror_mode": {
    "name": "ipython",
    "version": 3
   },
   "file_extension": ".py",
   "mimetype": "text/x-python",
   "name": "python",
   "nbconvert_exporter": "python",
   "pygments_lexer": "ipython3",
   "version": "3.5.3"
  }
 },
 "nbformat": 4,
 "nbformat_minor": 1
}
