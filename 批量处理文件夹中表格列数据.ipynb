{
 "cells": [
  {
   "cell_type": "code",
   "execution_count": 4,
   "metadata": {
    "scrolled": true
   },
   "outputs": [],
   "source": [
    "import os \n",
    "os.chdir('D:\\\\')\n",
    "\n",
    "\n",
    "import time\n",
    "import pandas as pd\n",
    "import numpy as np\n",
    "import matplotlib.pyplot as plt\n",
    "import seaborn as sns\n",
    "\n",
    "from  IPython.display import display"
   ]
  },
  {
   "cell_type": "code",
   "execution_count": 11,
   "metadata": {},
   "outputs": [],
   "source": [
    "\"\"\"在csv文件中第一行添加索引字段\"\"\"\n",
    "def write_raw_index(file):\n",
    "    filename = file\n",
    "    with open('\\\\待处理\\\\'+filename, 'r+', encoding='utf-8') as f:\n",
    "        content = f.read()\n",
    "        f.seek(0, 0)\n",
    "        text = 'User ID' + ',' + 'Item ID' + ',' + 'Category ID' + ',' + 'Behavior type'+ ','+'Timestamp'\n",
    "        f.write(text + '\\n' + content)\n",
    "        \n",
    "'''遍历文件夹查看数据'''\n",
    "def f1():\n",
    "    path = '\\\\待处理\\\\'\n",
    "    folder = os.walk(path)  \n",
    "    files = list(folder)[0][2]\n",
    "    \n",
    "    for file in files:\n",
    "        print(file)\n",
    "        write_raw_index(file)              "
   ]
  },
  {
   "cell_type": "code",
   "execution_count": 36,
   "metadata": {},
   "outputs": [],
   "source": [
    "#f1()"
   ]
  },
  {
   "cell_type": "code",
   "execution_count": 5,
   "metadata": {
    "collapsed": true
   },
   "outputs": [],
   "source": [
    "#将10位时间戳转换为时间字符串，默认为2017-10-01 13:37:04格式\n",
    "def timestamp_to_date(time_stamp, format_string=\"%Y-%m-%d %H:%M:%S\"):\n",
    "    time_array = time.localtime(time_stamp)\n",
    "    str_date = time.strftime(format_string, time_array)\n",
    "    return str_date\n",
    "\n",
    "\n",
    "\n",
    "'''遍历文件夹查看数据'''\n",
    "def f2():\n",
    "    path = 'b'\n",
    "    folder = os.walk(path)  \n",
    "    files = list(folder)[0][2]\n",
    "    \n",
    "    for file in files:\n",
    "        print(file)\n",
    "        data = pd.read_csv('b//'+file)\n",
    "        for i in data['Timestamp']:\n",
    "            #print(i)\n",
    "            timestamp_to_date(i, format_string=\"%Y-%m-%d %H:%M:%S\")\n",
    "            data['datatime']=timestamp_to_date(i, format_string=\"%Y-%m-%d %H:%M:%S\")\n",
    "        data.to_csv('D:'+'\\\\'+'处理完毕\\\\'+file)"
   ]
  },
  {
   "cell_type": "code",
   "execution_count": 20,
   "metadata": {},
   "outputs": [
    {
     "name": "stdout",
     "output_type": "stream",
     "text": [
      "UserBehavior_902.csv\n"
     ]
    }
   ],
   "source": [
    "f1()"
   ]
  },
  {
   "cell_type": "code",
   "execution_count": 36,
   "metadata": {
    "collapsed": true
   },
   "outputs": [],
   "source": [
    "#data['Timestamp'] = data.Timestamp.map(lambda x:float(x))"
   ]
  },
  {
   "cell_type": "code",
   "execution_count": 38,
   "metadata": {},
   "outputs": [
    {
     "data": {
      "text/plain": [
       "\"path = 'b//'\\nfolder = os.walk(path)  \\nfiles = list(folder)[0][2]\\nprint(files)\\n\""
      ]
     },
     "execution_count": 38,
     "metadata": {},
     "output_type": "execute_result"
    }
   ],
   "source": [
    "'''path = 'b//'\n",
    "folder = os.walk(path)  \n",
    "files = list(folder)[0][2]\n",
    "print(files)\n",
    "'''"
   ]
  },
  {
   "cell_type": "code",
   "execution_count": 37,
   "metadata": {
    "scrolled": false
   },
   "outputs": [],
   "source": [
    "#f2()"
   ]
  }
 ],
 "metadata": {
  "anaconda-cloud": {},
  "kernelspec": {
   "display_name": "Python [default]",
   "language": "python",
   "name": "python3"
  },
  "language_info": {
   "codemirror_mode": {
    "name": "ipython",
    "version": 3
   },
   "file_extension": ".py",
   "mimetype": "text/x-python",
   "name": "python",
   "nbconvert_exporter": "python",
   "pygments_lexer": "ipython3",
   "version": "3.5.3"
  }
 },
 "nbformat": 4,
 "nbformat_minor": 1
}
